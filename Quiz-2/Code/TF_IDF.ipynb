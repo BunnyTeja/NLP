{
  "nbformat": 4,
  "nbformat_minor": 0,
  "metadata": {
    "colab": {
      "provenance": []
    },
    "kernelspec": {
      "name": "python3",
      "display_name": "Python 3"
    },
    "language_info": {
      "name": "python"
    }
  },
  "cells": [
    {
      "cell_type": "code",
      "source": [
        "from sklearn.feature_extraction.text import TfidfVectorizer\n",
        "from sklearn.metrics.pairwise import cosine_similarity "
      ],
      "metadata": {
        "id": "anja16tFjPqi"
      },
      "execution_count": 1,
      "outputs": []
    },
    {
      "cell_type": "code",
      "source": [
        "\n",
        "with open(\"/content/drive/MyDrive/NLP/projs.txt\", \"r\") as f:\n",
        "  text = f.readlines()\n",
        "\n",
        "sentences = []\n",
        "for t in text:\n",
        "  sentences.append(t.strip())\n",
        "\n",
        "vectorizer = TfidfVectorizer()\n",
        "sen_vec = vectorizer.fit_transform(sentences)\n",
        "print(vectorizer.get_feature_names())\n",
        "print(sen_vec.toarray())"
      ],
      "metadata": {
        "colab": {
          "base_uri": "https://localhost:8080/"
        },
        "id": "PUB_3prr3rmT",
        "outputId": "6bf5b98a-983d-4ff9-fc91-9d35e847ff4a"
      },
      "execution_count": 9,
      "outputs": [
        {
          "output_type": "stream",
          "name": "stdout",
          "text": [
            "['10', '2022', 'analysis', 'and', 'ann', 'answer', 'answering', 'application', 'arizona', 'artical', 'artificial', 'aspect', 'asr', 'automatic', 'banks', 'based', 'captioning', 'carolina', 'cell', 'chatbot', 'conditions', 'connection', 'created', 'crime', 'crisis', 'damaged', 'data', 'dataset', 'detecting', 'diabetes', 'doc', 'doctor', 'election', 'elections', 'entity', 'events', 'evolving', 'extracting', 'faq', 'fasttext', 'firearm', 'foods', 'for', 'from', 'gubernatorial', 'image', 'improve', 'in', 'mississippi', 'models', 'neighborhoods', 'networks', 'neural', 'new', 'nlp', 'novel', 'of', 'on', 'one', 'ones', 'ongoing', 'perovskite', 'predicting', 'prediction', 'procedure', 'publications', 'quesries', 'question', 'rating', 'recognition', 'recommendation', 'regarding', 'regulation', 'regulations', 'scientific', 'sentiment', 'services', 'severity', 'short', 'solar', 'south', 'specialist', 'speech', 'state', 'summarization', 'summary', 'synthesis', 'system', 'target', 'techniques', 'terms', 'the', 'time', 'to', 'tos', 'transformer', 'twitter', 'urban', 'urgency', 'using', 'various', 'verifying', 'visual', 'vs', 'water', 'who', 'with', 'youtube']\n",
            "[[0.        0.        0.        ... 0.        0.        0.       ]\n",
            " [0.        0.        0.        ... 0.        0.        0.       ]\n",
            " [0.        0.        0.4156556 ... 0.        0.        0.       ]\n",
            " ...\n",
            " [0.        0.        0.        ... 0.        0.        0.       ]\n",
            " [0.5       0.        0.        ... 0.        0.        0.       ]\n",
            " [0.        0.        0.        ... 0.        0.        0.       ]]\n"
          ]
        },
        {
          "output_type": "stream",
          "name": "stderr",
          "text": [
            "/usr/local/lib/python3.7/dist-packages/sklearn/utils/deprecation.py:87: FutureWarning: Function get_feature_names is deprecated; get_feature_names is deprecated in 1.0 and will be removed in 1.2. Please use get_feature_names_out instead.\n",
            "  warnings.warn(msg, category=FutureWarning)\n"
          ]
        }
      ]
    },
    {
      "cell_type": "code",
      "source": [
        "sentences"
      ],
      "metadata": {
        "colab": {
          "base_uri": "https://localhost:8080/"
        },
        "id": "J-VmFhz2ozZ-",
        "outputId": "c5a15a86-90b6-4c10-9561-8276de6142ee"
      },
      "execution_count": 10,
      "outputs": [
        {
          "output_type": "execute_result",
          "data": {
            "text/plain": [
              "['Water - South Carolina',\n",
              " 'Evolving Firearm Regulations',\n",
              " 'Crime analysis in South Carolina',\n",
              " 'Target aspect based sentiment analysis for urban neighborhoods',\n",
              " 'Extracting synthesis procedure from solar cell perovskite based scientific publications.',\n",
              " 'Entity Recognition : Water Data Regulations',\n",
              " \"TOS: Banks' Terms of Services summary\",\n",
              " 'Water Regulation Summarization',\n",
              " 'Predicting the 2022 gubernatorial election of South Carolina using sentiment analysis of Twitter.',\n",
              " 'Scientific Artical Summarization',\n",
              " 'New FastText [with Election data]',\n",
              " 'Chatbot to answer quesries regarding WHO Water Regulations',\n",
              " 'Verifying various foods connection to improve diabetes using NLP techniques',\n",
              " 'Summarization of Terms and conditions',\n",
              " 'Chatbot for Elections FAQ - State of Mississippi',\n",
              " 'Image Captioning using Transformer Models',\n",
              " 'Specialist Doctor Recommendation System',\n",
              " 'Application of Artificial Neural Networks (ANN) to Automatic Speech Recognition (ASR) on a Novel Dataset created using YouTube',\n",
              " 'Detecting and rating severity of urgency in short, one-time crisis events vs. ongoing ones',\n",
              " 'Water Regulations - Arizona',\n",
              " 'Damaged doc. prediction (10%)',\n",
              " 'Visual Question Answering']"
            ]
          },
          "metadata": {},
          "execution_count": 10
        }
      ]
    },
    {
      "cell_type": "code",
      "source": [
        "for i in range(0, len(sentences)):\n",
        "    match = cosine_similarity(sen_vec[13], sen_vec[i])[0][0]\n",
        "    print (\"Similarity Score for Sentence - {}: {}\".format(i, match))"
      ],
      "metadata": {
        "colab": {
          "base_uri": "https://localhost:8080/"
        },
        "id": "6KTFQB_k5HJd",
        "outputId": "2f230f86-398b-45d7-bfec-a6a3abb22f9a"
      },
      "execution_count": 16,
      "outputs": [
        {
          "output_type": "stream",
          "name": "stdout",
          "text": [
            "Similarity Score for Sentence - 0: 0.0\n",
            "Similarity Score for Sentence - 1: 0.0\n",
            "Similarity Score for Sentence - 2: 0.0\n",
            "Similarity Score for Sentence - 3: 0.0\n",
            "Similarity Score for Sentence - 4: 0.0\n",
            "Similarity Score for Sentence - 5: 0.0\n",
            "Similarity Score for Sentence - 6: 0.27388351460782273\n",
            "Similarity Score for Sentence - 7: 0.231930704669871\n",
            "Similarity Score for Sentence - 8: 0.1308423447358548\n",
            "Similarity Score for Sentence - 9: 0.21629758170998037\n",
            "Similarity Score for Sentence - 10: 0.0\n",
            "Similarity Score for Sentence - 11: 0.0\n",
            "Similarity Score for Sentence - 12: 0.0\n",
            "Similarity Score for Sentence - 13: 1.0000000000000002\n",
            "Similarity Score for Sentence - 14: 0.08734856315726205\n",
            "Similarity Score for Sentence - 15: 0.0\n",
            "Similarity Score for Sentence - 16: 0.0\n",
            "Similarity Score for Sentence - 17: 0.05441739879367127\n",
            "Similarity Score for Sentence - 18: 0.166874750712871\n",
            "Similarity Score for Sentence - 19: 0.0\n",
            "Similarity Score for Sentence - 20: 0.0\n",
            "Similarity Score for Sentence - 21: 0.0\n"
          ]
        }
      ]
    },
    {
      "cell_type": "code",
      "source": [
        "sentences[13]"
      ],
      "metadata": {
        "colab": {
          "base_uri": "https://localhost:8080/",
          "height": 35
        },
        "id": "3RGpGY4l6fhw",
        "outputId": "ff4c5748-8975-4a59-f831-02d6612c3322"
      },
      "execution_count": 14,
      "outputs": [
        {
          "output_type": "execute_result",
          "data": {
            "text/plain": [
              "'Summarization of Terms and conditions'"
            ],
            "application/vnd.google.colaboratory.intrinsic+json": {
              "type": "string"
            }
          },
          "metadata": {},
          "execution_count": 14
        }
      ]
    },
    {
      "cell_type": "code",
      "source": [
        "c1 = [sentences[13]]\n",
        "c2 = []\n",
        "\n",
        "for s,s_s in zip(sen_vec,sentences):\n",
        "  match = cosine_similarity(sen_vec[13], s)[0][0]\n",
        "  if match >= 0.2:\n",
        "    c1.append(s_s)\n",
        "  else:\n",
        "    c2.append(s_s)\n",
        "\n",
        "print(\"Projects similar to my project name are: \\n\")\n",
        "print(c1)\n",
        "print(\"\\n\")\n",
        "print(\"Projects which are not similar to my project name are: \\n\")\n",
        "print(c2)"
      ],
      "metadata": {
        "colab": {
          "base_uri": "https://localhost:8080/"
        },
        "id": "_VCknLiK6Xlq",
        "outputId": "56174afe-6feb-4c5b-d7e1-ad7868352647"
      },
      "execution_count": 24,
      "outputs": [
        {
          "output_type": "stream",
          "name": "stdout",
          "text": [
            "Projects similar to my project name are: \n",
            "\n",
            "['Summarization of Terms and conditions', \"TOS: Banks' Terms of Services summary\", 'Water Regulation Summarization', 'Scientific Artical Summarization', 'Summarization of Terms and conditions']\n",
            "\n",
            "\n",
            "Projects which are not similar to my project name are: \n",
            "\n",
            "['Water - South Carolina', 'Evolving Firearm Regulations', 'Crime analysis in South Carolina', 'Target aspect based sentiment analysis for urban neighborhoods', 'Extracting synthesis procedure from solar cell perovskite based scientific publications.', 'Entity Recognition : Water Data Regulations', 'Predicting the 2022 gubernatorial election of South Carolina using sentiment analysis of Twitter.', 'New FastText [with Election data]', 'Chatbot to answer quesries regarding WHO Water Regulations', 'Verifying various foods connection to improve diabetes using NLP techniques', 'Chatbot for Elections FAQ - State of Mississippi', 'Image Captioning using Transformer Models', 'Specialist Doctor Recommendation System', 'Application of Artificial Neural Networks (ANN) to Automatic Speech Recognition (ASR) on a Novel Dataset created using YouTube', 'Detecting and rating severity of urgency in short, one-time crisis events vs. ongoing ones', 'Water Regulations - Arizona', 'Damaged doc. prediction (10%)', 'Visual Question Answering']\n"
          ]
        }
      ]
    }
  ]
}